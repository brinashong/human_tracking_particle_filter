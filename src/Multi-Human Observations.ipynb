{
  "cells": [
    {
      "cell_type": "markdown",
      "metadata": {
        "id": "x5EwomWmkNpv"
      },
      "source": [
        "Sensor Fusion Function (sensor_fusion)\n",
        "\n",
        "This function implements a particle filter for sensor fusion. It takes the following arguments:\n",
        "\n",
        "particles: Array of particles representing possible states (e.g., positions).\n",
        "\n",
        "weights: Array of weights associated with each particle.\n",
        "\n",
        "velocity: Motion vector representing velocity.\n",
        "\n",
        "measurements: Sensor measurements (e.g., positions of objects).\n",
        "\n",
        "sensor_noise (optional): Standard deviation of sensor noise (defaults to 0.1).\n",
        "\n",
        "The function performs the following steps:\n",
        "\n",
        "Prediction Step (Motion Model): Updates the particle positions based on the predicted movement using the velocity vector.\n",
        "Update Step (Sensor Measurements): Iterates through each particle and calculates the distance between the particle and each sensor measurement. Adds sensor noise to simulate realistic sensor readings. Assigns a higher weight to particles closer to the sensor measurements using a Gaussian likelihood function.\n",
        "\n",
        "Normalization Step: Normalizes the weights to sum to 1.\n",
        "\n",
        "Resampling Step (resample_particles)\n",
        "\n",
        "This function resamples particles based on their weights. Particles with higher weights are more likely to be selected. This step helps to maintain diversity among particles and avoids getting stuck in local minima."
      ]
    },
    {
      "cell_type": "markdown",
      "metadata": {
        "id": "tYfOjwvrgkA3"
      },
      "source": [
        "Imagine searching for a friend in a crowded park. You have some initial guesses about where they might be (particles). If you hear they are walking towards the ice cream stand (velocity), you wouldn't keep searching in the same spot. You would update your search area based on their predicted movement (similar to updating particle positions). This helps the filter focus its search on more likely locations as time progresses."
      ]
    },
    {
      "cell_type": "markdown",
      "metadata": {
        "id": "DSzBRWmFibye"
      },
      "source": [
        " By adding the velocity (predicted movement) to each particle's location, you essentially predict where each possible location (particle) might move in the next time step. This refines the distribution of particles to be more concentrated around areas where the human is likely to be based on their past movement."
      ]
    },
    {
      "cell_type": "markdown",
      "metadata": {
        "id": "Jw-0hS_m8L--"
      },
      "source": [
        "- Sensor Data: A camera captures video footage of an environment where a person might be present.\n",
        "\n",
        "- Data Preprocessing: The video frames might undergo preprocessing to isolate potential human features (shapes, colors) from the background.\n",
        "\n",
        "- Particle Filter:\n",
        "\n",
        "The filter initializes a number of particles (representing possible locations of the person) scattered around the area of interest.\n",
        "Each particle has an associated weight, indicating its likelihood of being the actual person's location.\n",
        "The filter uses a motion model to predict how the person might move (considering walking speed, direction changes). It updates particle positions based on this model.\n",
        "Sensor information (preprocessed data) is used to compare predicted locations with what the camera actually sees. Particles closer to detected features receive higher weights.\n",
        "Weight Update and Resampling: Particles with higher weights are more likely to represent the true location. The filter resamples the particle set, creating more copies of high-weight particles and discarding those with low weights. This concentrates the particle distribution around more probable locations.\n",
        "\n",
        "- Output: The particle with the highest weight (or the average position of top-weighted particles) is considered the estimated location of the person within the image/environment"
      ]
    },
    {
      "cell_type": "markdown",
      "metadata": {
        "id": "TgS7u7ck8y74"
      },
      "source": []
    },
    {
      "cell_type": "code",
      "execution_count": null,
      "metadata": {
        "id": "hqbqMvmovg6b"
      },
      "outputs": [],
      "source": [
        "import numpy as np"
      ]
    },
    {
      "cell_type": "code",
      "execution_count": null,
      "metadata": {
        "colab": {
          "base_uri": "https://localhost:8080/"
        },
        "id": "JPe8SeGfgjyp",
        "outputId": "67a69853-92c9-4b0d-c44a-7b1c626825be"
      },
      "outputs": [
        {
          "name": "stdout",
          "output_type": "stream",
          "text": [
            "Estimated Position: [array([1.05934779, 1.05562396]), array([1.25952281, 1.35555073]), array([1.55952281, 1.75555073])]\n"
          ]
        }
      ],
      "source": [
        "def sensor_fusion(particles, weights, velocity, measurement, sensor_noise=0.1):\n",
        "    \"\"\"\n",
        "    Implements sensor fusion using a particle filter for a single observation.\n",
        "\n",
        "    Args:\n",
        "        particles (np.ndarray): Array of particles representing possible states (e.g., positions).\n",
        "        weights (np.ndarray): Array of weights associated with each particle.\n",
        "        velocity (np.ndarray): Motion vector representing velocity for the current observation.\n",
        "        measurement (np.ndarray): Sensor measurement (e.g., position of the current observation).\n",
        "        sensor_noise (float, optional): Standard deviation of sensor noise (defaults to 0.1).\n",
        "\n",
        "    Returns:\n",
        "        tuple: Updated particles and weights after sensor fusion for the current observation.\n",
        "    \"\"\"\n",
        "    # Prediction Step (Motion Model)\n",
        "    particles += velocity  # Update particle positions based on predicted movement\n",
        "\n",
        "    # Update Step (Sensor Measurement)\n",
        "    for i, particle in enumerate(particles):\n",
        "        particle_measurement_dist = np.linalg.norm(particle - measurement)\n",
        "        # Add sensor noise to simulate realistic sensor readings\n",
        "        particle_measurement_dist += np.random.normal(scale=sensor_noise)\n",
        "        # Likelihood based on distance (closer = higher likelihood)\n",
        "        weights[i] *= np.exp(-(particle_measurement_dist**2) / (2 * sensor_noise**2))\n",
        "\n",
        "    # Normalize weights to sum to 1\n",
        "    weights /= np.sum(weights)\n",
        "\n",
        "    return particles, weights\n",
        "\n",
        "# Resampling Step\n",
        "def resample_particles(particles, weights):\n",
        "    \"\"\"\n",
        "    Resamples particles based on their weights.\n",
        "\n",
        "    Args:\n",
        "        particles (np.ndarray): Array of particles.\n",
        "        weights (np.ndarray): Array of weights associated with each particle.\n",
        "\n",
        "    Returns:\n",
        "        np.ndarray: Resampled particles.\n",
        "    \"\"\"\n",
        "\n",
        "    indices = np.random.choice(range(len(particles)), len(particles), p=weights)\n",
        "    return particles[indices]\n",
        "# Example Usage\n",
        "# Assuming 2D positions (x, y)\n",
        "num_particles = 100\n",
        "particles = np.random.rand(num_particles, 2)\n",
        "weights = np.ones(num_particles) / num_particles\n",
        "estimated_position=[]\n",
        "velocities = [np.array([0.1, 0.2]), np.array([0.2, 0.3]), np.array([0.3, 0.4])]  # Example velocities for each observation\n",
        "measurements = [np.array([1.0, 2.0]), np.array([2.0, 3.0]), np.array([3.0, 4.0])]  # Example sensor measurements for each observation\n",
        "\n",
        "# Sensor Fusion Loop\n",
        "for velocity, measurement in zip(velocities, measurements):  # Iterate over each observation\n",
        "    particles, weights = sensor_fusion(particles, weights, velocity, measurement)\n",
        "\n",
        "    # Optional: Resampling (can be done periodically)\n",
        "    particles = resample_particles(particles, weights)\n",
        "\n",
        "    # Access estimated position (e.g., weighted mean)\n",
        "    estimated_position.append(np.average(particles, weights=weights, axis=0))\n",
        "\n",
        "print(\"Estimated Position:\", estimated_position)\n"
      ]
    }
  ],
  "metadata": {
    "colab": {
      "provenance": []
    },
    "kernelspec": {
      "display_name": "Python 3",
      "name": "python3"
    },
    "language_info": {
      "name": "python"
    }
  },
  "nbformat": 4,
  "nbformat_minor": 0
}
