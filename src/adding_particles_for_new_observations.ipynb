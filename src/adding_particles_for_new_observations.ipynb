{
 "cells": [
  {
   "cell_type": "code",
   "execution_count": 56,
   "id": "8f3dfb9c",
   "metadata": {},
   "outputs": [],
   "source": [
    "from random import *\n",
    "\n",
    "grid_width = 10 # x\n",
    "\n",
    "grid_length = 20 # y"
   ]
  },
  {
   "cell_type": "code",
   "execution_count": 57,
   "id": "8b2a3aeb",
   "metadata": {},
   "outputs": [
    {
     "data": {
      "text/plain": [
       "[(1.8532348597316062, 1.0003494387546796),\n",
       " (8.461229222007704, 6.3429026543998335),\n",
       " (8.368896613573014, 8.11696052797328),\n",
       " (5.4903456743159, 5.851736728166021),\n",
       " (9.985532265009244, 5.054274375406487),\n",
       " (1.7394830492680313, 8.433054230254395),\n",
       " (3.716098362516418, 6.834908145802162),\n",
       " (1.4442554014587516, 8.966460131194614),\n",
       " (3.0182337344776897, 6.283524441231663),\n",
       " (0.23461798585261096, 8.929929991372148)]"
      ]
     },
     "execution_count": 57,
     "metadata": {},
     "output_type": "execute_result"
    }
   ],
   "source": [
    "particles = [(uniform(0, 10), uniform(0, 10)) for _ in range(10)]\n",
    "\n",
    "particles"
   ]
  },
  {
   "cell_type": "code",
   "execution_count": 58,
   "id": "ae88afd4",
   "metadata": {},
   "outputs": [],
   "source": [
    "def sampleParticles(new_observed_coord, old_particles, sampling_range):\n",
    "    ## number of new particles sampled per coordinated\n",
    "    default_sample_num = 10\n",
    "    \n",
    "    ## additional particles from new coordinate\n",
    "    additional_particles = []\n",
    "    \n",
    "    for coord in new_observed_coord:\n",
    "        (x_coord, y_coord) = coord\n",
    "        ## calculating a range of coordinates to sample particles from\n",
    "        x_low = max(0, x_coord - sampling_range)\n",
    "        x_high = min(grid_width, x_coord + sampling_range)\n",
    "\n",
    "        y_low = max(0, y_coord - sampling_range)\n",
    "        y_high = min(grid_length, y_coord + sampling_range)\n",
    "\n",
    "        additional_particles += [(uniform(x_low, x_high), uniform(y_low, y_high)) for _ in range(default_sample_num)]\n",
    "    \n",
    "    particle_count = len(old_particles)\n",
    "    \n",
    "    ## systematic resampling will lead to duplicates in the particles, remove duplicates\n",
    "    new_particles = list(set(old_particles))\n",
    "    \n",
    "    ## sample from the additional particles to maintain the same size for the new_particles array generated\n",
    "    new_particles += choices(additional_particles, k = particle_count - len(new_particles))\n",
    "    \n",
    "    return new_particles"
   ]
  },
  {
   "cell_type": "code",
   "execution_count": 60,
   "id": "17d5a0ac",
   "metadata": {},
   "outputs": [
    {
     "data": {
      "text/plain": [
       "[(0.23461798585261096, 8.929929991372148),\n",
       " (9.985532265009244, 5.054274375406487),\n",
       " (5.4903456743159, 5.851736728166021),\n",
       " (1.4442554014587516, 8.966460131194614),\n",
       " (8.461229222007704, 6.3429026543998335),\n",
       " (1.8532348597316062, 1.0003494387546796),\n",
       " (8.368896613573014, 8.11696052797328),\n",
       " (1.7394830492680313, 8.433054230254395),\n",
       " (3.716098362516418, 6.834908145802162),\n",
       " (3.0182337344776897, 6.283524441231663),\n",
       " (12.213496831770305, 0.5576735029448927),\n",
       " (10.935489582692414, 7.343600637575642),\n",
       " (11.854218132333566, 1.0480414276840595),\n",
       " (12.213496831770305, 0.5576735029448927),\n",
       " (11.53856693825865, 0.8611424421301755),\n",
       " (10.493043550497063, 9.60654453501526),\n",
       " (10.08009904021445, 0.0054710979037231235),\n",
       " (10.08009904021445, 0.0054710979037231235),\n",
       " (11.763531581050968, 2.0378953612737956),\n",
       " (11.537302960400163, 1.8021352982215515)]"
      ]
     },
     "execution_count": 60,
     "metadata": {},
     "output_type": "execute_result"
    }
   ],
   "source": [
    "new_observed_coord = [(uniform(11, 15), uniform(0, 10)) for _ in range(2)]\n",
    "\n",
    "old_particles = particles * 2 ## modeling duplicates in particles\n",
    "\n",
    "new_particles = sampleParticles(new_observed_coord, old_particles, 2)\n",
    "\n",
    "new_particles"
   ]
  },
  {
   "cell_type": "code",
   "execution_count": null,
   "id": "7f4d3ab0",
   "metadata": {},
   "outputs": [],
   "source": [
    "Observation (id1, id2)\n",
    "\n",
    "[0, 1]\n",
    "-> weight_id1, weight_id2\n",
    "-> weight_id1\n",
    "-> id1\n",
    "\n",
    "[0, 2]\n",
    "\n",
    "\n",
    "initialisation --> 100 random particles\n",
    "1 round of prediction, measurement resampling\n",
    "resampling --> reduce the unique particles\n",
    "\n",
    "new observation for a different human, unseen before, sample particle (add addtional particles around this observation)\n",
    "prediction, measurement resampling\n"
   ]
  }
 ],
 "metadata": {
  "kernelspec": {
   "display_name": "Python 3 (ipykernel)",
   "language": "python",
   "name": "python3"
  },
  "language_info": {
   "codemirror_mode": {
    "name": "ipython",
    "version": 3
   },
   "file_extension": ".py",
   "mimetype": "text/x-python",
   "name": "python",
   "nbconvert_exporter": "python",
   "pygments_lexer": "ipython3",
   "version": "3.11.5"
  }
 },
 "nbformat": 4,
 "nbformat_minor": 5
}
